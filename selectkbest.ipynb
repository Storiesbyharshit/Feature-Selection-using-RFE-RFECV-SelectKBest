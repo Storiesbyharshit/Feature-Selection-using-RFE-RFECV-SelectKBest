{
 "cells": [
  {
   "cell_type": "code",
   "execution_count": 0,
   "metadata": {
    "colab": {},
    "colab_type": "code",
    "id": "NECN_JcWd-in"
   },
   "outputs": [],
   "source": [
    "import matplotlib.pyplot as plt\n",
    "import numpy as np\n",
    "import pandas as pd\n",
    "import seaborn as sns\n",
    "import warnings\n",
    "from google.colab import drive\n",
    "from scipy import stats\n",
    "from scipy.stats.stats import pearsonr\n",
    "from sklearn.model_selection import train_test_split, GridSearchCV\n",
    "from sklearn.feature_selection import SelectKBest, f_regression"
   ]
  },
  {
   "cell_type": "code",
   "execution_count": 0,
   "metadata": {
    "colab": {},
    "colab_type": "code",
    "id": "N4Tyi3hV-e1d"
   },
   "outputs": [],
   "source": [
    "%matplotlib inline\n",
    "warnings.filterwarnings(\"ignore\")\n",
    "pd.set_option('display.expand_frame_repr', False)"
   ]
  },
  {
   "cell_type": "code",
   "execution_count": 216,
   "metadata": {
    "colab": {
     "base_uri": "https://localhost:8080/",
     "height": 54
    },
    "colab_type": "code",
    "executionInfo": {
     "elapsed": 1563,
     "status": "ok",
     "timestamp": 1575478542310,
     "user": {
      "displayName": "Bhavesh Bhatt",
      "photoUrl": "https://lh3.googleusercontent.com/a-/AAuE7mAGw0xp47aiUD_-aP4uJqXVZKRgT_wiBYTj7UJXbQ=s64",
      "userId": "01561702845917398436"
     },
     "user_tz": -330
    },
    "id": "brt3yziAeAVo",
    "outputId": "7134ae44-20dc-4260-c25d-f60cb4c8dcde"
   },
   "outputs": [
    {
     "name": "stdout",
     "output_type": "stream",
     "text": [
      "Drive already mounted at /content/drive; to attempt to forcibly remount, call drive.mount(\"/content/drive\", force_remount=True).\n"
     ]
    }
   ],
   "source": [
    "drive.mount('/content/drive')"
   ]
  },
  {
   "cell_type": "code",
   "execution_count": 0,
   "metadata": {
    "colab": {},
    "colab_type": "code",
    "id": "_wHX7U1AeDR4"
   },
   "outputs": [],
   "source": [
    "path = \"/content/drive/My Drive/data.csv\""
   ]
  },
  {
   "cell_type": "code",
   "execution_count": 0,
   "metadata": {
    "colab": {},
    "colab_type": "code",
    "id": "ZKQh9oIieF6D"
   },
   "outputs": [],
   "source": [
    "df = pd.read_csv(path)"
   ]
  },
  {
   "cell_type": "code",
   "execution_count": 219,
   "metadata": {
    "colab": {
     "base_uri": "https://localhost:8080/",
     "height": 52
    },
    "colab_type": "code",
    "executionInfo": {
     "elapsed": 28749,
     "status": "ok",
     "timestamp": 1575478583396,
     "user": {
      "displayName": "Bhavesh Bhatt",
      "photoUrl": "https://lh3.googleusercontent.com/a-/AAuE7mAGw0xp47aiUD_-aP4uJqXVZKRgT_wiBYTj7UJXbQ=s64",
      "userId": "01561702845917398436"
     },
     "user_tz": -330
    },
    "id": "IzUuWl6VePc_",
    "outputId": "50f14932-222f-493b-dfac-1192fd48cf5b"
   },
   "outputs": [
    {
     "name": "stdout",
     "output_type": "stream",
     "text": [
      "Total number of rows in dataset = 155\n",
      "Total number of columns in dataset = 5\n"
     ]
    }
   ],
   "source": [
    "print (\"Total number of rows in dataset = {}\".format(df.shape[0]))\n",
    "print (\"Total number of columns in dataset = {}\".format(df.shape[1]))"
   ]
  },
  {
   "cell_type": "code",
   "execution_count": 220,
   "metadata": {
    "colab": {
     "base_uri": "https://localhost:8080/",
     "height": 203
    },
    "colab_type": "code",
    "executionInfo": {
     "elapsed": 1332,
     "status": "ok",
     "timestamp": 1575478607805,
     "user": {
      "displayName": "Bhavesh Bhatt",
      "photoUrl": "https://lh3.googleusercontent.com/a-/AAuE7mAGw0xp47aiUD_-aP4uJqXVZKRgT_wiBYTj7UJXbQ=s64",
      "userId": "01561702845917398436"
     },
     "user_tz": -330
    },
    "id": "4cn-C1preS3G",
    "outputId": "3a7e2cdc-bff3-42c8-c672-eb2eea73db38"
   },
   "outputs": [
    {
     "data": {
      "text/html": [
       "<div>\n",
       "<style scoped>\n",
       "    .dataframe tbody tr th:only-of-type {\n",
       "        vertical-align: middle;\n",
       "    }\n",
       "\n",
       "    .dataframe tbody tr th {\n",
       "        vertical-align: top;\n",
       "    }\n",
       "\n",
       "    .dataframe thead th {\n",
       "        text-align: right;\n",
       "    }\n",
       "</style>\n",
       "<table border=\"1\" class=\"dataframe\">\n",
       "  <thead>\n",
       "    <tr style=\"text-align: right;\">\n",
       "      <th></th>\n",
       "      <th>X1</th>\n",
       "      <th>X2</th>\n",
       "      <th>X3</th>\n",
       "      <th>X4</th>\n",
       "      <th>Y</th>\n",
       "    </tr>\n",
       "  </thead>\n",
       "  <tbody>\n",
       "    <tr>\n",
       "      <th>0</th>\n",
       "      <td>2.53</td>\n",
       "      <td>285</td>\n",
       "      <td>62.750</td>\n",
       "      <td>1394.46</td>\n",
       "      <td>1187.0</td>\n",
       "    </tr>\n",
       "    <tr>\n",
       "      <th>1</th>\n",
       "      <td>2.85</td>\n",
       "      <td>280</td>\n",
       "      <td>37.875</td>\n",
       "      <td>1366.42</td>\n",
       "      <td>1149.1</td>\n",
       "    </tr>\n",
       "    <tr>\n",
       "      <th>2</th>\n",
       "      <td>2.27</td>\n",
       "      <td>266</td>\n",
       "      <td>44.000</td>\n",
       "      <td>1498.58</td>\n",
       "      <td>1268.3</td>\n",
       "    </tr>\n",
       "    <tr>\n",
       "      <th>3</th>\n",
       "      <td>2.43</td>\n",
       "      <td>280</td>\n",
       "      <td>59.250</td>\n",
       "      <td>1420.60</td>\n",
       "      <td>1124.9</td>\n",
       "    </tr>\n",
       "    <tr>\n",
       "      <th>4</th>\n",
       "      <td>2.46</td>\n",
       "      <td>281</td>\n",
       "      <td>23.938</td>\n",
       "      <td>1454.60</td>\n",
       "      <td>1194.5</td>\n",
       "    </tr>\n",
       "  </tbody>\n",
       "</table>\n",
       "</div>"
      ],
      "text/plain": [
       "     X1   X2      X3       X4       Y\n",
       "0  2.53  285  62.750  1394.46  1187.0\n",
       "1  2.85  280  37.875  1366.42  1149.1\n",
       "2  2.27  266  44.000  1498.58  1268.3\n",
       "3  2.43  280  59.250  1420.60  1124.9\n",
       "4  2.46  281  23.938  1454.60  1194.5"
      ]
     },
     "execution_count": 220,
     "metadata": {
      "tags": []
     },
     "output_type": "execute_result"
    }
   ],
   "source": [
    "df.head()"
   ]
  },
  {
   "cell_type": "code",
   "execution_count": 0,
   "metadata": {
    "colab": {},
    "colab_type": "code",
    "id": "kOUSKX_Qe13R"
   },
   "outputs": [],
   "source": [
    "# Split df into x and Y\n",
    "target_col = \"Y\"\n",
    "X = df.loc[:, df.columns != target_col]\n",
    "y = df.loc[:, target_col]"
   ]
  },
  {
   "cell_type": "code",
   "execution_count": 222,
   "metadata": {
    "colab": {
     "base_uri": "https://localhost:8080/",
     "height": 34
    },
    "colab_type": "code",
    "executionInfo": {
     "elapsed": 1134,
     "status": "ok",
     "timestamp": 1575478654803,
     "user": {
      "displayName": "Bhavesh Bhatt",
      "photoUrl": "https://lh3.googleusercontent.com/a-/AAuE7mAGw0xp47aiUD_-aP4uJqXVZKRgT_wiBYTj7UJXbQ=s64",
      "userId": "01561702845917398436"
     },
     "user_tz": -330
    },
    "id": "0rLC0Wlce8tL",
    "outputId": "74bf2625-5e28-410d-d4ef-de8dd9feb97c"
   },
   "outputs": [
    {
     "data": {
      "text/plain": [
       "(155, 4)"
      ]
     },
     "execution_count": 222,
     "metadata": {
      "tags": []
     },
     "output_type": "execute_result"
    }
   ],
   "source": [
    "X.shape"
   ]
  },
  {
   "cell_type": "code",
   "execution_count": 223,
   "metadata": {
    "colab": {
     "base_uri": "https://localhost:8080/",
     "height": 34
    },
    "colab_type": "code",
    "executionInfo": {
     "elapsed": 1055,
     "status": "ok",
     "timestamp": 1575478662244,
     "user": {
      "displayName": "Bhavesh Bhatt",
      "photoUrl": "https://lh3.googleusercontent.com/a-/AAuE7mAGw0xp47aiUD_-aP4uJqXVZKRgT_wiBYTj7UJXbQ=s64",
      "userId": "01561702845917398436"
     },
     "user_tz": -330
    },
    "id": "5gI3r1aJe_4j",
    "outputId": "d714b09e-ab83-43c7-e0e3-dda764358ef8"
   },
   "outputs": [
    {
     "data": {
      "text/plain": [
       "(155,)"
      ]
     },
     "execution_count": 223,
     "metadata": {
      "tags": []
     },
     "output_type": "execute_result"
    }
   ],
   "source": [
    "y.shape"
   ]
  },
  {
   "cell_type": "code",
   "execution_count": 0,
   "metadata": {
    "colab": {},
    "colab_type": "code",
    "id": "VwxdL1wyfBtz"
   },
   "outputs": [],
   "source": [
    "# Split the data into train and test\n",
    "X_train, X_test, y_train, y_test = train_test_split(X, y, \n",
    "                                                    test_size=0.30, \n",
    "                                                    random_state=42)"
   ]
  },
  {
   "cell_type": "code",
   "execution_count": 225,
   "metadata": {
    "colab": {
     "base_uri": "https://localhost:8080/",
     "height": 203
    },
    "colab_type": "code",
    "executionInfo": {
     "elapsed": 1239,
     "status": "ok",
     "timestamp": 1575478692972,
     "user": {
      "displayName": "Bhavesh Bhatt",
      "photoUrl": "https://lh3.googleusercontent.com/a-/AAuE7mAGw0xp47aiUD_-aP4uJqXVZKRgT_wiBYTj7UJXbQ=s64",
      "userId": "01561702845917398436"
     },
     "user_tz": -330
    },
    "id": "YJPl5WmnIiww",
    "outputId": "d90f9819-2970-4a1d-bf95-688a5c30a318"
   },
   "outputs": [
    {
     "data": {
      "text/html": [
       "<div>\n",
       "<style scoped>\n",
       "    .dataframe tbody tr th:only-of-type {\n",
       "        vertical-align: middle;\n",
       "    }\n",
       "\n",
       "    .dataframe tbody tr th {\n",
       "        vertical-align: top;\n",
       "    }\n",
       "\n",
       "    .dataframe thead th {\n",
       "        text-align: right;\n",
       "    }\n",
       "</style>\n",
       "<table border=\"1\" class=\"dataframe\">\n",
       "  <thead>\n",
       "    <tr style=\"text-align: right;\">\n",
       "      <th></th>\n",
       "      <th>X1</th>\n",
       "      <th>X2</th>\n",
       "      <th>X3</th>\n",
       "      <th>X4</th>\n",
       "    </tr>\n",
       "  </thead>\n",
       "  <tbody>\n",
       "    <tr>\n",
       "      <th>141</th>\n",
       "      <td>2.12</td>\n",
       "      <td>236</td>\n",
       "      <td>15.778</td>\n",
       "      <td>2471.65</td>\n",
       "    </tr>\n",
       "    <tr>\n",
       "      <th>66</th>\n",
       "      <td>4.55</td>\n",
       "      <td>328</td>\n",
       "      <td>13.375</td>\n",
       "      <td>1549.38</td>\n",
       "    </tr>\n",
       "    <tr>\n",
       "      <th>119</th>\n",
       "      <td>0.74</td>\n",
       "      <td>335</td>\n",
       "      <td>15.610</td>\n",
       "      <td>1848.36</td>\n",
       "    </tr>\n",
       "    <tr>\n",
       "      <th>27</th>\n",
       "      <td>3.79</td>\n",
       "      <td>436</td>\n",
       "      <td>8.000</td>\n",
       "      <td>841.15</td>\n",
       "    </tr>\n",
       "    <tr>\n",
       "      <th>79</th>\n",
       "      <td>0.70</td>\n",
       "      <td>620</td>\n",
       "      <td>86.625</td>\n",
       "      <td>872.81</td>\n",
       "    </tr>\n",
       "  </tbody>\n",
       "</table>\n",
       "</div>"
      ],
      "text/plain": [
       "       X1   X2      X3       X4\n",
       "141  2.12  236  15.778  2471.65\n",
       "66   4.55  328  13.375  1549.38\n",
       "119  0.74  335  15.610  1848.36\n",
       "27   3.79  436   8.000   841.15\n",
       "79   0.70  620  86.625   872.81"
      ]
     },
     "execution_count": 225,
     "metadata": {
      "tags": []
     },
     "output_type": "execute_result"
    }
   ],
   "source": [
    "X_train.head()"
   ]
  },
  {
   "cell_type": "code",
   "execution_count": 0,
   "metadata": {
    "colab": {},
    "colab_type": "code",
    "id": "1OFboEURIHWQ"
   },
   "outputs": [],
   "source": [
    "X_new = SelectKBest(f_regression, k=2).fit_transform(X_train, y_train)"
   ]
  },
  {
   "cell_type": "code",
   "execution_count": 227,
   "metadata": {
    "colab": {
     "base_uri": "https://localhost:8080/",
     "height": 105
    },
    "colab_type": "code",
    "executionInfo": {
     "elapsed": 1071,
     "status": "ok",
     "timestamp": 1575478841960,
     "user": {
      "displayName": "Bhavesh Bhatt",
      "photoUrl": "https://lh3.googleusercontent.com/a-/AAuE7mAGw0xp47aiUD_-aP4uJqXVZKRgT_wiBYTj7UJXbQ=s64",
      "userId": "01561702845917398436"
     },
     "user_tz": -330
    },
    "id": "-Hu_EIjqIh7I",
    "outputId": "9954f5d2-b85f-4f3d-d258-ef722eb61c90"
   },
   "outputs": [
    {
     "data": {
      "text/plain": [
       "array([[ 236.  , 2471.65],\n",
       "       [ 328.  , 1549.38],\n",
       "       [ 335.  , 1848.36],\n",
       "       [ 436.  ,  841.15],\n",
       "       [ 620.  ,  872.81]])"
      ]
     },
     "execution_count": 227,
     "metadata": {
      "tags": []
     },
     "output_type": "execute_result"
    }
   ],
   "source": [
    "X_new[0:5]"
   ]
  },
  {
   "cell_type": "markdown",
   "metadata": {
    "colab_type": "text",
    "id": "ZwjhCtwU4O6o"
   },
   "source": [
    "# Relationship of Features with Response Variables"
   ]
  },
  {
   "cell_type": "code",
   "execution_count": 0,
   "metadata": {
    "colab": {},
    "colab_type": "code",
    "id": "1xe6rG7Lh8ZB"
   },
   "outputs": [],
   "source": [
    "def plot_join_plot(df, feature, target):\n",
    "    j = sns.jointplot(feature, target, data = df, kind = 'reg')\n",
    "    j.annotate(stats.pearsonr)\n",
    "    return plt.show()"
   ]
  },
  {
   "cell_type": "code",
   "execution_count": 0,
   "metadata": {
    "colab": {},
    "colab_type": "code",
    "id": "yi2MI45D5q37"
   },
   "outputs": [],
   "source": [
    "train_df = pd.concat([X_train, y_train], axis=1)"
   ]
  },
  {
   "cell_type": "code",
   "execution_count": 230,
   "metadata": {
    "colab": {
     "base_uri": "https://localhost:8080/",
     "height": 441
    },
    "colab_type": "code",
    "executionInfo": {
     "elapsed": 2419,
     "status": "ok",
     "timestamp": 1575478971001,
     "user": {
      "displayName": "Bhavesh Bhatt",
      "photoUrl": "https://lh3.googleusercontent.com/a-/AAuE7mAGw0xp47aiUD_-aP4uJqXVZKRgT_wiBYTj7UJXbQ=s64",
      "userId": "01561702845917398436"
     },
     "user_tz": -330
    },
    "id": "tlu4Jwa95_B1",
    "outputId": "e9c29b1b-87bd-45fa-d775-d60e10ad0818"
   },
   "outputs": [
    {
     "data": {
      "image/png": "[encoded data removed]",
      "text/plain": [
       "<Figure size 432x432 with 3 Axes>"
      ]
     },
     "metadata": {
      "tags": []
     },
     "output_type": "display_data"
    }
   ],
   "source": [
    "plot_join_plot(train_df, \"X1\", target_col)"
   ]
  },
  {
   "cell_type": "code",
   "execution_count": 231,
   "metadata": {
    "colab": {
     "base_uri": "https://localhost:8080/",
     "height": 441
    },
    "colab_type": "code",
    "executionInfo": {
     "elapsed": 2470,
     "status": "ok",
     "timestamp": 1575479051808,
     "user": {
      "displayName": "Bhavesh Bhatt",
      "photoUrl": "https://lh3.googleusercontent.com/a-/AAuE7mAGw0xp47aiUD_-aP4uJqXVZKRgT_wiBYTj7UJXbQ=s64",
      "userId": "01561702845917398436"
     },
     "user_tz": -330
    },
    "id": "94iaMkyK43mq",
    "outputId": "1d83222b-3aa6-44c4-e818-c25f8f7aecad"
   },
   "outputs": [
    {
     "data": {
      "image/png": "[encoded data removed]",
      "text/plain": [
       "<Figure size 432x432 with 3 Axes>"
      ]
     },
     "metadata": {
      "tags": []
     },
     "output_type": "display_data"
    }
   ],
   "source": [
    "plot_join_plot(train_df, \"X2\", target_col)"
   ]
  },
  {
   "cell_type": "code",
   "execution_count": 232,
   "metadata": {
    "colab": {
     "base_uri": "https://localhost:8080/",
     "height": 441
    },
    "colab_type": "code",
    "executionInfo": {
     "elapsed": 2639,
     "status": "ok",
     "timestamp": 1575479087614,
     "user": {
      "displayName": "Bhavesh Bhatt",
      "photoUrl": "https://lh3.googleusercontent.com/a-/AAuE7mAGw0xp47aiUD_-aP4uJqXVZKRgT_wiBYTj7UJXbQ=s64",
      "userId": "01561702845917398436"
     },
     "user_tz": -330
    },
    "id": "H6Qg8BTX455R",
    "outputId": "f03798c6-3cad-4885-8645-c1d759dad8c3"
   },
   "outputs": [
    {
     "data": {
      "image/png": "[encoded data removed]",
      "text/plain": [
       "<Figure size 432x432 with 3 Axes>"
      ]
     },
     "metadata": {
      "tags": []
     },
     "output_type": "display_data"
    }
   ],
   "source": [
    "plot_join_plot(train_df, \"X3\", target_col)"
   ]
  },
  {
   "cell_type": "code",
   "execution_count": 233,
   "metadata": {
    "colab": {
     "base_uri": "https://localhost:8080/",
     "height": 441
    },
    "colab_type": "code",
    "executionInfo": {
     "elapsed": 2659,
     "status": "ok",
     "timestamp": 1575479148676,
     "user": {
      "displayName": "Bhavesh Bhatt",
      "photoUrl": "https://lh3.googleusercontent.com/a-/AAuE7mAGw0xp47aiUD_-aP4uJqXVZKRgT_wiBYTj7UJXbQ=s64",
      "userId": "01561702845917398436"
     },
     "user_tz": -330
    },
    "id": "q7Z8GLg76k70",
    "outputId": "12a7bdf2-0163-4ef3-8498-df41842c1ce3"
   },
   "outputs": [
    {
     "data": {
      "image/png": "[encoded data removed]",
      "text/plain": [
       "<Figure size 432x432 with 3 Axes>"
      ]
     },
     "metadata": {
      "tags": []
     },
     "output_type": "display_data"
    }
   ],
   "source": [
    "plot_join_plot(train_df, \"X4\", target_col)"
   ]
  },
  {
   "cell_type": "markdown",
   "metadata": {
    "colab_type": "text",
    "id": "jwuhCQg590r_"
   },
   "source": [
    "# Correlation Analysis using Pearson Analysis"
   ]
  },
  {
   "cell_type": "code",
   "execution_count": 234,
   "metadata": {
    "colab": {
     "base_uri": "https://localhost:8080/",
     "height": 34
    },
    "colab_type": "code",
    "executionInfo": {
     "elapsed": 1159,
     "status": "ok",
     "timestamp": 1575479236452,
     "user": {
      "displayName": "Bhavesh Bhatt",
      "photoUrl": "https://lh3.googleusercontent.com/a-/AAuE7mAGw0xp47aiUD_-aP4uJqXVZKRgT_wiBYTj7UJXbQ=s64",
      "userId": "01561702845917398436"
     },
     "user_tz": -330
    },
    "id": "bLX32BcDKaSO",
    "outputId": "488526fa-a762-4ce4-a227-4591a6784098"
   },
   "outputs": [
    {
     "data": {
      "text/plain": [
       "(-0.3925245911796265, 2.649328996655491e-05)"
      ]
     },
     "execution_count": 234,
     "metadata": {
      "tags": []
     },
     "output_type": "execute_result"
    }
   ],
   "source": [
    "pearsonr(X_train[\"X4\"], y_train)"
   ]
  },
  {
   "cell_type": "code",
   "execution_count": 0,
   "metadata": {
    "colab": {},
    "colab_type": "code",
    "id": "SVNHbCbkJ2vD"
   },
   "outputs": [],
   "source": [
    "out_list = []\n",
    "for column in X_train.columns:\n",
    "    corr_tuple = pearsonr(X_train[column], y_train)\n",
    "    out_list.append([column, corr_tuple[0], corr_tuple[1]])"
   ]
  },
  {
   "cell_type": "code",
   "execution_count": 0,
   "metadata": {
    "colab": {},
    "colab_type": "code",
    "id": "9b36VcprKxVV"
   },
   "outputs": [],
   "source": [
    "corr_df = pd.DataFrame(out_list, columns=[\"Features\", \"Correlation\", \"P-Value\"])"
   ]
  },
  {
   "cell_type": "code",
   "execution_count": 237,
   "metadata": {
    "colab": {
     "base_uri": "https://localhost:8080/",
     "height": 172
    },
    "colab_type": "code",
    "executionInfo": {
     "elapsed": 1196,
     "status": "ok",
     "timestamp": 1575479334250,
     "user": {
      "displayName": "Bhavesh Bhatt",
      "photoUrl": "https://lh3.googleusercontent.com/a-/AAuE7mAGw0xp47aiUD_-aP4uJqXVZKRgT_wiBYTj7UJXbQ=s64",
      "userId": "01561702845917398436"
     },
     "user_tz": -330
    },
    "id": "2F_n5gcaK-Vx",
    "outputId": "8fe2060a-d163-4e07-d6fc-9e5f6aad8536"
   },
   "outputs": [
    {
     "data": {
      "text/html": [
       "<div>\n",
       "<style scoped>\n",
       "    .dataframe tbody tr th:only-of-type {\n",
       "        vertical-align: middle;\n",
       "    }\n",
       "\n",
       "    .dataframe tbody tr th {\n",
       "        vertical-align: top;\n",
       "    }\n",
       "\n",
       "    .dataframe thead th {\n",
       "        text-align: right;\n",
       "    }\n",
       "</style>\n",
       "<table border=\"1\" class=\"dataframe\">\n",
       "  <thead>\n",
       "    <tr style=\"text-align: right;\">\n",
       "      <th></th>\n",
       "      <th>Features</th>\n",
       "      <th>Correlation</th>\n",
       "      <th>P-Value</th>\n",
       "    </tr>\n",
       "  </thead>\n",
       "  <tbody>\n",
       "    <tr>\n",
       "      <th>0</th>\n",
       "      <td>X1</td>\n",
       "      <td>-0.091239</td>\n",
       "      <td>3.476728e-01</td>\n",
       "    </tr>\n",
       "    <tr>\n",
       "      <th>1</th>\n",
       "      <td>X2</td>\n",
       "      <td>0.506263</td>\n",
       "      <td>2.274708e-08</td>\n",
       "    </tr>\n",
       "    <tr>\n",
       "      <th>2</th>\n",
       "      <td>X3</td>\n",
       "      <td>0.019741</td>\n",
       "      <td>8.393037e-01</td>\n",
       "    </tr>\n",
       "    <tr>\n",
       "      <th>3</th>\n",
       "      <td>X4</td>\n",
       "      <td>-0.392525</td>\n",
       "      <td>2.649329e-05</td>\n",
       "    </tr>\n",
       "  </tbody>\n",
       "</table>\n",
       "</div>"
      ],
      "text/plain": [
       "  Features  Correlation       P-Value\n",
       "0       X1    -0.091239  3.476728e-01\n",
       "1       X2     0.506263  2.274708e-08\n",
       "2       X3     0.019741  8.393037e-01\n",
       "3       X4    -0.392525  2.649329e-05"
      ]
     },
     "execution_count": 237,
     "metadata": {
      "tags": []
     },
     "output_type": "execute_result"
    }
   ],
   "source": [
    "corr_df.head()"
   ]
  },
  {
   "cell_type": "code",
   "execution_count": 0,
   "metadata": {
    "colab": {},
    "colab_type": "code",
    "id": "EPfTMgSiLIKW"
   },
   "outputs": [],
   "source": [
    "corr_df.sort_values(by=['P-Value'], inplace=True)"
   ]
  },
  {
   "cell_type": "code",
   "execution_count": 239,
   "metadata": {
    "colab": {
     "base_uri": "https://localhost:8080/",
     "height": 172
    },
    "colab_type": "code",
    "executionInfo": {
     "elapsed": 1131,
     "status": "ok",
     "timestamp": 1575479393952,
     "user": {
      "displayName": "Bhavesh Bhatt",
      "photoUrl": "https://lh3.googleusercontent.com/a-/AAuE7mAGw0xp47aiUD_-aP4uJqXVZKRgT_wiBYTj7UJXbQ=s64",
      "userId": "01561702845917398436"
     },
     "user_tz": -330
    },
    "id": "-qEaNuN3LBia",
    "outputId": "3abe6f51-1922-401d-fc7a-4e5d9a5ead0c"
   },
   "outputs": [
    {
     "data": {
      "text/html": [
       "<div>\n",
       "<style scoped>\n",
       "    .dataframe tbody tr th:only-of-type {\n",
       "        vertical-align: middle;\n",
       "    }\n",
       "\n",
       "    .dataframe tbody tr th {\n",
       "        vertical-align: top;\n",
       "    }\n",
       "\n",
       "    .dataframe thead th {\n",
       "        text-align: right;\n",
       "    }\n",
       "</style>\n",
       "<table border=\"1\" class=\"dataframe\">\n",
       "  <thead>\n",
       "    <tr style=\"text-align: right;\">\n",
       "      <th></th>\n",
       "      <th>Features</th>\n",
       "      <th>Correlation</th>\n",
       "      <th>P-Value</th>\n",
       "    </tr>\n",
       "  </thead>\n",
       "  <tbody>\n",
       "    <tr>\n",
       "      <th>1</th>\n",
       "      <td>X2</td>\n",
       "      <td>0.506263</td>\n",
       "      <td>2.274708e-08</td>\n",
       "    </tr>\n",
       "    <tr>\n",
       "      <th>3</th>\n",
       "      <td>X4</td>\n",
       "      <td>-0.392525</td>\n",
       "      <td>2.649329e-05</td>\n",
       "    </tr>\n",
       "    <tr>\n",
       "      <th>0</th>\n",
       "      <td>X1</td>\n",
       "      <td>-0.091239</td>\n",
       "      <td>3.476728e-01</td>\n",
       "    </tr>\n",
       "    <tr>\n",
       "      <th>2</th>\n",
       "      <td>X3</td>\n",
       "      <td>0.019741</td>\n",
       "      <td>8.393037e-01</td>\n",
       "    </tr>\n",
       "  </tbody>\n",
       "</table>\n",
       "</div>"
      ],
      "text/plain": [
       "  Features  Correlation       P-Value\n",
       "1       X2     0.506263  2.274708e-08\n",
       "3       X4    -0.392525  2.649329e-05\n",
       "0       X1    -0.091239  3.476728e-01\n",
       "2       X3     0.019741  8.393037e-01"
      ]
     },
     "execution_count": 239,
     "metadata": {
      "tags": []
     },
     "output_type": "execute_result"
    }
   ],
   "source": [
    "corr_df.head()"
   ]
  }
 ],
 "metadata": {
  "colab": {
   "collapsed_sections": [],
   "name": "regression-notebook.ipynb",
   "provenance": []
  },
  "kernelspec": {
   "display_name": "Python 3",
   "language": "python",
   "name": "python3"
  }
 },
 "nbformat": 4,
 "nbformat_minor": 1
}
